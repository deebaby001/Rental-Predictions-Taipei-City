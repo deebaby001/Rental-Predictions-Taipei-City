{
 "cells": [
  {
   "cell_type": "markdown",
   "metadata": {},
   "source": [
    "# Linear Regression\n",
    "\n",
    "To predict our rental housing prices, we will begin with a linear regression model. To find out more about the maths behind regression, check out the [following article](https://onlinestatbook.com/2/regression/regression.html)."
   ]
  },
  {
   "cell_type": "code",
   "execution_count": 1,
   "metadata": {},
   "outputs": [],
   "source": [
    "\"\"\"\n",
    "A simple linear regression model with all predictors and target variable of\n",
    "price of unit area.\n",
    "\"\"\"\n",
    "\n",
    "from sklearn.linear_model import LinearRegression\n",
    "from sklearn.model_selection import train_test_split\n",
    "from sklearn.metrics import mean_squared_error\n",
    "\n",
    "import pandas as pd\n",
    "import pickle"
   ]
  },
  {
   "cell_type": "code",
   "execution_count": 13,
   "metadata": {},
   "outputs": [],
   "source": [
    "# TODO: import csv dataset\n",
    "df = pd.read_csv(\"../../data/processed/tpdata.csv\")\n",
    "\n",
    "# split data into \"X\" and \"y\" set\n",
    "X = df.drop(['price_unit_area'], axis=1)\n",
    "y = df[\"price_unit_area\"]\n",
    "\n",
    "# TODO: split your data into a training and testing set,\n",
    "#  with 25% of data in the test set\n",
    "X_train, X_test, y_train, y_test = train_test_split(X,y,test_size=0.25,random_state=0)\n"
   ]
  },
  {
   "cell_type": "code",
   "execution_count": 14,
   "metadata": {},
   "outputs": [
    {
     "name": "stdout",
     "output_type": "stream",
     "text": [
      "-0.3021986019582821\n"
     ]
    }
   ],
   "source": [
    "# TODO: make linear regression object\n",
    "#For some reason \"reg\" was not defined so I had touse another method\n",
    "#reg = ...\n",
    "#df= pd.read_csv(\"../../data/processed/tpdata.csv\")\n",
    "\n",
    "#Ran following for the Linear Regression\n",
    "LinearRegression(fit_intercept=True)\n",
    "\n",
    "#Tell sklearn to import LogicalRegression\n",
    "from sklearn.linear_model import LogisticRegression\n",
    "\n",
    "\n",
    "#model.fit(X_train, y_train)\n",
    "\n",
    "\n",
    "#Tell python to import sklearn.linear_model as lm\n",
    "import sklearn.linear_model as lm\n",
    "\n",
    "# Create a logistic regression model\n",
    "model = lm.LinearRegression()\n",
    "\n",
    "# Fit the model\n",
    "model.fit(X_train, y_train)\n",
    "\n",
    "#Predict on X-test\n",
    "y_pred = model.predict(X_test)\n",
    "\n",
    "# Score the model on the test data\n",
    "score = model.score(X_test, y_test)\n",
    "\n",
    "print(score)\n",
    "\n"
   ]
  },
  {
   "cell_type": "code",
   "execution_count": 15,
   "metadata": {},
   "outputs": [
    {
     "name": "stdout",
     "output_type": "stream",
     "text": [
      "R^2: -0.3021986019582821\n",
      "MSE: 294.93262401252576\n"
     ]
    }
   ],
   "source": [
    "# TODO: score model on X_train & y_train  I could not get this code to run so I did something else\n",
    "#r2 = reg.score(X_train,y_train)\n",
    "\n",
    "r2 = model.score(X_test, y_test)\n",
    "print(\"R^2:\", r2)\n",
    "\n",
    "\n",
    "# TODO: generate predictions on X_test I couls not get this code to work so I did something else\n",
    "#y_pred = ...\n",
    "#y_pred = reg.predict(X_test)\n",
    "\n",
    "y_pred = model.predict(X_test)\n",
    "\n",
    "mse = mean_squared_error(y_test, y_pred)\n",
    "print(\"MSE:\", mse)"
   ]
  },
  {
   "cell_type": "code",
   "execution_count": 17,
   "metadata": {},
   "outputs": [],
   "source": [
    "# serialize and save the model I could not get this code to run so I did soemething else\n",
    "#pickle.dump(reg(\"code/model/saved_models/linreg.sav\", 'wb')) \n",
    "# #pickle.dump(reg(X_test), f)\n",
    "    \n",
    "# save the model to disk THIS IS MY 1st FILE\n",
    "filename = 'finalized_model.sav'\n",
    "pickle.dump(model, open(filename, 'wb'))        \n",
    "\n",
    " "
   ]
  }
 ],
 "metadata": {
  "kernelspec": {
   "display_name": "phase1",
   "language": "python",
   "name": "python3"
  },
  "language_info": {
   "codemirror_mode": {
    "name": "ipython",
    "version": 3
   },
   "file_extension": ".py",
   "mimetype": "text/x-python",
   "name": "python",
   "nbconvert_exporter": "python",
   "pygments_lexer": "ipython3",
   "version": "3.9.18"
  },
  "orig_nbformat": 4
 },
 "nbformat": 4,
 "nbformat_minor": 2
}
